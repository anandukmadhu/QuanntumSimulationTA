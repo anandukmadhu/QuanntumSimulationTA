{
 "cells": [
  {
   "cell_type": "markdown",
   "id": "b6d4cf4e",
   "metadata": {},
   "source": [
    "# Import Modules"
   ]
  },
  {
   "cell_type": "code",
   "execution_count": 3,
   "id": "318546f7",
   "metadata": {},
   "outputs": [],
   "source": [
    "# initialization\n",
    "import numpy as np\n",
    "\n",
    "# importing Qiskit\n",
    "from qiskit import *\n",
    "from qiskit import QuantumCircuit, transpile, Aer, IBMQ\n",
    "from qiskit.tools.jupyter import *\n",
    "from qiskit.visualization import *\n",
    "#from ibm_quantum_widgets import *\n",
    "from qiskit.providers.aer import QasmSimulator\n",
    "\n",
    "# import basic plot tools\n",
    "from qiskit.visualization import plot_histogram"
   ]
  },
  {
   "cell_type": "markdown",
   "id": "83885f56",
   "metadata": {},
   "source": [
    "# Import IBM account"
   ]
  },
  {
   "cell_type": "code",
   "execution_count": 12,
   "id": "e59a20a8",
   "metadata": {},
   "outputs": [
    {
     "name": "stderr",
     "output_type": "stream",
     "text": [
      "configrc.store_credentials:WARNING:2023-11-23 12:11:28,593: Credentials already present. Set overwrite=True to overwrite.\n",
      "ibmqfactory.load_account:WARNING:2023-11-23 12:11:28,842: Credentials are already in use. The existing account in the session will be replaced.\n"
     ]
    },
    {
     "name": "stdout",
     "output_type": "stream",
     "text": [
      "ibmq_qasm_simulator\n",
      "simulator_statevector\n",
      "simulator_mps\n",
      "simulator_extended_stabilizer\n",
      "simulator_stabilizer\n",
      "ibm_lagos\n",
      "ibm_nairobi\n",
      "ibm_perth\n",
      "ibm_brisbane\n"
     ]
    }
   ],
   "source": [
    "# import IBM account\n",
    "from qiskit import IBMQ\n",
    "#IBMQ.save_account('778b98c9541382feaf24808bf49db5311d9382052a420c94e274021cdd7e051c104eb5730ad637c0f29cacb8ff0b6067164fa80fc4ad5427f79ca97bfa42c714')\n",
    "provider = IBMQ.load_account()\n",
    "provider = IBMQ.get_provider(hub='ibm-q')\n",
    "for backend in provider.backends():\n",
    "    print(backend)"
   ]
  },
  {
   "cell_type": "markdown",
   "id": "0a2e22f4",
   "metadata": {},
   "source": [
    "# Implement your Quantum Circuit (QC)"
   ]
  },
  {
   "cell_type": "code",
   "execution_count": 4,
   "id": "957830b7",
   "metadata": {},
   "outputs": [],
   "source": [
    "n=3\n",
    "def dj_oracle(case, n):\n",
    "    oracle_qc = QuantumCircuit(n+1)\n",
    "    \n",
    "    # First, let's deal with the case in which oracle is balanced\n",
    "    if case == \"balanced\":\n",
    "        b = np.random.randint(1,2**n)\n",
    "        b_str = format(b, '0'+str(n)+'b')\n",
    "        for qubit in range(len(b_str)):\n",
    "            if b_str[qubit] == '1':\n",
    "                oracle_qc.x(qubit)\n",
    "        # Do the controlled-NOT gates for each qubit, using the output qubit \n",
    "        # as the target:\n",
    "        for qubit in range(n):\n",
    "            oracle_qc.cx(qubit, n)\n",
    "        # Next, place the final X-gates\n",
    "        for qubit in range(len(b_str)):\n",
    "            if b_str[qubit] == '1':\n",
    "                oracle_qc.x(qubit)\n",
    "\n",
    "    # Case in which oracle is constant\n",
    "    if case == \"constant\":\n",
    "        # First decide what the fixed output of the oracle will be\n",
    "        # (either always 0 or always 1)\n",
    "        output = np.random.randint(2)\n",
    "        if output == 1:\n",
    "            oracle_qc.x(n)\n",
    "    \n",
    "    oracle_gate = oracle_qc.to_gate()\n",
    "    oracle_gate.name = \"Oracle\" # To show when we display the circuit\n",
    "    return oracle_gate"
   ]
  },
  {
   "cell_type": "code",
   "execution_count": 5,
   "id": "5e7335a2",
   "metadata": {},
   "outputs": [],
   "source": [
    "def dj_algorithm(oracle, n):\n",
    "    dj_circuit = QuantumCircuit(n+1, n)\n",
    "    # Set up the output qubit:\n",
    "    dj_circuit.x(n)\n",
    "    dj_circuit.h(n)\n",
    "    # And set up the input register:\n",
    "    for qubit in range(n):\n",
    "        dj_circuit.h(qubit)\n",
    "    # Let's append the oracle gate to our circuit:\n",
    "    dj_circuit.append(oracle, range(n+1))\n",
    "    # Finally, perform the H-gates again and measure:\n",
    "    for qubit in range(n):\n",
    "        dj_circuit.h(qubit)\n",
    "    \n",
    "    for i in range(n):\n",
    "        dj_circuit.measure(i, i)\n",
    "    \n",
    "    return dj_circuit"
   ]
  },
  {
   "cell_type": "code",
   "execution_count": 6,
   "id": "058deadf",
   "metadata": {},
   "outputs": [
    {
     "data": {
      "text/html": [
       "<pre style=\"word-wrap: normal;white-space: pre;background: #fff0;line-height: 1.1;font-family: &quot;Courier New&quot;,Courier,monospace\">     ┌───┐     ┌─────────┐┌───┐┌─┐      \n",
       "q_0: ┤ H ├─────┤0        ├┤ H ├┤M├──────\n",
       "     ├───┤     │         │├───┤└╥┘┌─┐   \n",
       "q_1: ┤ H ├─────┤1        ├┤ H ├─╫─┤M├───\n",
       "     ├───┤     │  Oracle │├───┤ ║ └╥┘┌─┐\n",
       "q_2: ┤ H ├─────┤2        ├┤ H ├─╫──╫─┤M├\n",
       "     ├───┤┌───┐│         │└───┘ ║  ║ └╥┘\n",
       "q_3: ┤ X ├┤ H ├┤3        ├──────╫──╫──╫─\n",
       "     └───┘└───┘└─────────┘      ║  ║  ║ \n",
       "c: 3/═══════════════════════════╩══╩══╩═\n",
       "                                0  1  2 </pre>"
      ],
      "text/plain": [
       "     ┌───┐     ┌─────────┐┌───┐┌─┐      \n",
       "q_0: ┤ H ├─────┤0        ├┤ H ├┤M├──────\n",
       "     ├───┤     │         │├───┤└╥┘┌─┐   \n",
       "q_1: ┤ H ├─────┤1        ├┤ H ├─╫─┤M├───\n",
       "     ├───┤     │  Oracle │├───┤ ║ └╥┘┌─┐\n",
       "q_2: ┤ H ├─────┤2        ├┤ H ├─╫──╫─┤M├\n",
       "     ├───┤┌───┐│         │└───┘ ║  ║ └╥┘\n",
       "q_3: ┤ X ├┤ H ├┤3        ├──────╫──╫──╫─\n",
       "     └───┘└───┘└─────────┘      ║  ║  ║ \n",
       "c: 3/═══════════════════════════╩══╩══╩═\n",
       "                                0  1  2 "
      ]
     },
     "execution_count": 6,
     "metadata": {},
     "output_type": "execute_result"
    }
   ],
   "source": [
    "n = 3\n",
    "oracle_gate = dj_oracle('balanced', n)\n",
    "dj_circuit = dj_algorithm(oracle_gate, n)\n",
    "dj_circuit.draw()"
   ]
  },
  {
   "cell_type": "markdown",
   "id": "6e097c3e",
   "metadata": {},
   "source": [
    "# Set up backend and run you QC on Qasm simulator and real devices"
   ]
  },
  {
   "cell_type": "code",
   "execution_count": 34,
   "id": "df9619c5",
   "metadata": {},
   "outputs": [
    {
     "data": {
      "image/png": "[encoded data removed]",
      "text/plain": [
       "<Figure size 504x360 with 1 Axes>"
      ]
     },
     "execution_count": 34,
     "metadata": {},
     "output_type": "execute_result"
    }
   ],
   "source": [
    "\n",
    "backend=Aer.get_backend('qasm_simulator')\n",
    "#device_backend = provider.get_backend('ibm_nairobi')\n",
    "\n",
    "# transpile the circuit # 0: no optimization\n",
    "                        # 1: light optimization\n",
    "                        # 2: heavy optimization\n",
    "                        # 3: even heavier optimization\n",
    "transpiled_dj_circuit = transpile(dj_circuit, backend=backend, optimization_level=3)\n",
    "\n",
    "# run the circuit on the selected backend\n",
    "job = backend.run(transpiled_dj_circuit, shots=10000)\n",
    "\n",
    "\n",
    "# get the results\n",
    "results = job.result()\n",
    "answer = results.get_counts()\n",
    "\n",
    "plot_histogram(answer)"
   ]
  },
  {
   "cell_type": "markdown",
   "id": "6ef2b319",
   "metadata": {},
   "source": [
    "# Implement Noise Model"
   ]
  },
  {
   "cell_type": "code",
   "execution_count": 23,
   "id": "a4be5eb6",
   "metadata": {},
   "outputs": [],
   "source": [
    "from qiskit_aer.noise import NoiseModel\n",
    "from qiskit.providers.fake_provider import FakeNairobi\n",
    "from qiskit_aer import AerSimulator"
   ]
  },
  {
   "cell_type": "code",
   "execution_count": 24,
   "id": "d5b91590",
   "metadata": {},
   "outputs": [],
   "source": [
    "# Build noise model from backend properties\n",
    "backend = FakeLima()\n",
    "noise_model = NoiseModel.from_backend(backend)"
   ]
  },
  {
   "cell_type": "code",
   "execution_count": 32,
   "id": "337a2d8f",
   "metadata": {},
   "outputs": [
    {
     "data": {
      "image/png": "[encoded data removed]",
      "text/plain": [
       "<Figure size 504x360 with 1 Axes>"
      ]
     },
     "execution_count": 32,
     "metadata": {},
     "output_type": "execute_result"
    }
   ],
   "source": [
    "# Perform a noise simulation\n",
    "backend = AerSimulator(noise_model=noise_model)\n",
    "transpiled_circuit = transpile(dj_circuit, backend,initial_layout=None, optimization_level=3)\n",
    "result = backend.run(transpiled_circuit, shots=10000).result()\n",
    "\n",
    "counts = result.get_counts()\n",
    "plot_histogram(counts)"
   ]
  },
  {
   "cell_type": "markdown",
   "id": "ef90f0f4",
   "metadata": {},
   "source": [
    "# Real mimic of the Fake Backend"
   ]
  },
  {
   "cell_type": "code",
   "execution_count": 36,
   "id": "556504d6",
   "metadata": {},
   "outputs": [],
   "source": [
    "# Package for querying the IBM Quantum API\n",
    "import requests\n",
    "import numpy as np\n",
    "import seaborn as sns\n",
    "\n",
    "# Load all the basic Qiskit functionality\n",
    "from qiskit import *\n",
    "# Get the properties and configuarition classes used to define the data for a Qiskit backend\n",
    "from qiskit.providers.models import BackendProperties, QasmBackendConfiguration\n",
    "# The 'fake' Qiskit backend class\n",
    "from qiskit.providers.fake_provider import FakeBackend\n",
    "\n",
    "# Plotting routines\n",
    "import matplotlib.pyplot as plt\n",
    "%config InlineBackend.figure_format='retina'\n",
    "try:\n",
    "    plt.style.use('quantum-light')\n",
    "except:\n",
    "    pass"
   ]
  },
  {
   "cell_type": "code",
   "execution_count": 45,
   "id": "3708edf8",
   "metadata": {},
   "outputs": [],
   "source": [
    "props_res = requests.get('https://api-qcon.quantum-computing.ibm.com/api/Backends/ibm_nairobi/properties')\n",
    "if not props_res.json().get('backend_name', None): raise Exception('Request failed')"
   ]
  },
  {
   "cell_type": "code",
   "execution_count": 46,
   "id": "fc341d3e",
   "metadata": {},
   "outputs": [],
   "source": [
    "props = BackendProperties.from_dict(props_res.json())"
   ]
  },
  {
   "cell_type": "code",
   "execution_count": 47,
   "id": "ee94f177",
   "metadata": {},
   "outputs": [],
   "source": [
    "def fake_backend_from_properties(props):\n",
    "    \"\"\"Return a FakeBackend from a BackendProperties object\n",
    "    \n",
    "    Parameters:\n",
    "        props (BackendProperties): A backend properties instance\n",
    "        \n",
    "    Returns:\n",
    "        FakeBackend: A fake backend matching the given properties data\n",
    "        \n",
    "    Raises:\n",
    "        ValueError: Could not determine the two-qubit basis gate type\n",
    "    \"\"\"\n",
    "    # Generate the set of basis gates from the gate info in the properties\n",
    "    basis_gates = set()\n",
    "    for gate in props.gates:\n",
    "        basis_gates.add(gate.gate)\n",
    "    basis_gates = list(basis_gates)\n",
    "    \n",
    "    # Determine the two-qubit entangling gate used to generate the coupling map\n",
    "    two_qubit_gate = None\n",
    "    if 'cx' in basis_gates:\n",
    "        two_qubit_gate = 'cx'\n",
    "    elif 'ecr' in basis_gates:\n",
    "        two_qubit_gate = 'ecr'\n",
    "    elif 'cz' in basis_gates:\n",
    "        two_qubit_gate = 'cz'\n",
    "    else:\n",
    "        raise ValueError('I do not know what 2Q gate the backend is using')\n",
    "    # Iterate over the two-qubit gates to obtain the coupling map\n",
    "    coupling_map = []\n",
    "    for gate in props.gates:\n",
    "        if gate.gate == two_qubit_gate:\n",
    "            coupling_map.append(gate.qubits)\n",
    "    # Form a configuration object from the data in the properties\n",
    "    config = QasmBackendConfiguration(backend_name=props.backend_name,\n",
    "                                      backend_version=props.backend_version,\n",
    "                                      n_qubits=len(props.qubits),\n",
    "                                      basis_gates=basis_gates,\n",
    "                                      gates=basis_gates, # This is not really valid, but not using it\n",
    "                                      local=True,\n",
    "                                      simulator=False,\n",
    "                                      conditional=True,\n",
    "                                      open_pulse=False,\n",
    "                                      memory=True,\n",
    "                                      max_shots=10000,\n",
    "                                      coupling_map=coupling_map)\n",
    "\n",
    "    # Overload the properties method on the FakeBackend to return our properties\n",
    "    def properties():\n",
    "        return props\n",
    "\n",
    "    # Form the actual FakeBackend to return \n",
    "    fake_backend = FakeBackend(config)\n",
    "    fake_backend.properties = properties\n",
    "\n",
    "    return fake_backend"
   ]
  },
  {
   "cell_type": "code",
   "execution_count": 48,
   "id": "dfecf993",
   "metadata": {},
   "outputs": [],
   "source": [
    "fake_backend = fake_backend_from_properties(props)"
   ]
  },
  {
   "cell_type": "code",
   "execution_count": 49,
   "id": "3e5c03c5",
   "metadata": {},
   "outputs": [
    {
     "data": {
      "image/png": "[encoded data removed]",
      "text/plain": [
       "<Figure size 504x360 with 1 Axes>"
      ]
     },
     "execution_count": 49,
     "metadata": {
      "image/png": {
       "height": 323,
       "width": 465
      }
     },
     "output_type": "execute_result"
    }
   ],
   "source": [
    "transpiled_dj_circuit = transpile(dj_circuit, backend=fake_backend, optimization_level=3)\n",
    "\n",
    "# run the circuit on the selected backend\n",
    "job = fake_backend.run(transpiled_dj_circuit, shots=10000)\n",
    "\n",
    "\n",
    "# get the results\n",
    "results = job.result()\n",
    "answer = results.get_counts()\n",
    "\n",
    "plot_histogram(answer)"
   ]
  },
  {
   "cell_type": "code",
   "execution_count": null,
   "id": "fce156cb",
   "metadata": {},
   "outputs": [],
   "source": []
  }
 ],
 "metadata": {
  "kernelspec": {
   "display_name": "Python 3 (ipykernel)",
   "language": "python",
   "name": "python3"
  },
  "language_info": {
   "codemirror_mode": {
    "name": "ipython",
    "version": 3
   },
   "file_extension": ".py",
   "mimetype": "text/x-python",
   "name": "python",
   "nbconvert_exporter": "python",
   "pygments_lexer": "ipython3",
   "version": "3.9.7"
  }
 },
 "nbformat": 4,
 "nbformat_minor": 5
}
